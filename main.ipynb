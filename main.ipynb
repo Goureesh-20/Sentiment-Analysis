{
 "cells": [
  {
   "cell_type": "code",
   "execution_count": 24,
   "metadata": {},
   "outputs": [
    {
     "name": "stdout",
     "output_type": "stream",
     "text": [
      "showing info https://raw.githubusercontent.com/nltk/nltk_data/gh-pages/index.xml\n"
     ]
    },
    {
     "data": {
      "text/plain": [
       "True"
      ]
     },
     "execution_count": 24,
     "metadata": {},
     "output_type": "execute_result"
    }
   ],
   "source": [
    "import nltk\n",
    "nltk.download()"
   ]
  },
  {
   "cell_type": "code",
   "execution_count": 30,
   "metadata": {},
   "outputs": [],
   "source": [
    "from urllib.request import urlopen, Request\n",
    "from bs4 import BeautifulSoup\n",
    "from nltk.sentiment.vader import SentimentIntensityAnalyzer\n",
    "import pandas as pd \n",
    "import matplotlib.pyplot as plt"
   ]
  },
  {
   "cell_type": "code",
   "execution_count": 38,
   "metadata": {},
   "outputs": [
    {
     "name": "stdout",
     "output_type": "stream",
     "text": [
      "https://finviz.com/quote.ashx?t=AMZN\n",
      "https://finviz.com/quote.ashx?t=META\n",
      "https://finviz.com/quote.ashx?t=GOOG\n"
     ]
    }
   ],
   "source": [
    "finviz_url = \"https://finviz.com/quote.ashx?t=\"\n",
    "tickers = [\"AMZN\",\"META\",\"GOOG\"]\n",
    "\n",
    "news_tables = {}\n",
    "headers = {\"User-Agent\": \"Mozilla/5.0 (Windows NT 10.0; Win64; x64) AppleWebKit/537.36 (KHTML, like Gecko) Chrome/58.0.3029.110 Safari/537.3\"}\n",
    "for ticker in tickers:\n",
    "    url = finviz_url + ticker\n",
    "    print(url)\n",
    "    req = Request(url=url, headers=headers)\n",
    "    response = urlopen(req)\n",
    "\n",
    "    html = BeautifulSoup(response,\"html\")\n",
    "    news_table = html.find(id=\"news-table\")\n",
    "    news_tables[ticker] = news_table\n"
   ]
  },
  {
   "cell_type": "code",
   "execution_count": 39,
   "metadata": {},
   "outputs": [
    {
     "name": "stdout",
     "output_type": "stream",
     "text": [
      "[['AMZN', 'Jul-30-23', '01:15PM\\r\\n', 'Week Ahead: UK rates set to hit 15-year high'], ['AMZN', 'Jul-30-23', '10:43AM\\r\\n', 'Apple, Amazon earnings, July jobs report: What to know this week'], ['AMZN', 'Jul-30-23', '10:00AM\\r\\n', 'Got $1,000? Buy These Hot Growth Stocks Before They Take Off'], ['AMZN', 'Jul-30-23', '08:00AM\\r\\n', 'Bull Market Is Coming: 3 Growth Stocks to Buy Now'], ['AMZN', 'Jul-30-23', '07:09AM\\r\\n', '20 Least Educated States in America'], ['AMZN', 'Jul-30-23', '07:00AM', 'N/A'], ['AMZN', 'Jul-30-23', '07:00AM\\r\\n', 'Apple, Amazon, Starbucks to Report in Packed Earnings Week'], ['AMZN', 'Jul-30-23', '05:30AM\\r\\n', \"2 Monster Stocks You Won't Want to Ignore\"], ['AMZN', 'Jul-30-23', '05:21AM\\r\\n', \"1 Supercharged Growth Stock That's a Shoo-in to Rejoin Apple, Microsoft, Alphabet, Amazon, and Nvidia in the $1 Trillion Club\"], ['AMZN', 'Jul-29-23', '05:31PM\\r\\n', '12 Best Small Cap Tech Stocks To Buy'], ['AMZN', 'Jul-29-23', '01:00PM\\r\\n', 'Amazon and Microsoft claim investment in UK at risk over anti-monopoly moves'], ['AMZN', 'Jul-29-23', '09:05AM\\r\\n', 'Reddit Returns With New NFTs and Crypto Twitter Leaves Threads on Read'], ['AMZN', 'Jul-28-23', '06:25PM\\r\\n', 'Stock Market Action Plan: Apple, Amazon And An Upturn In Optimism'], ['AMZN', 'Jul-28-23', '05:32PM\\r\\n', 'Chip stocks, Amazon & Apple earnings, July jobs report: What to watch'], ['AMZN', 'Jul-28-23', '05:23PM\\r\\n', 'AWS unveils new generative AI tool for doctors'], ['AMZN', 'Jul-28-23', '04:07PM\\r\\n', 'Biogen to buy rare-disease drugmaker Reata in $7.3B deal'], ['AMZN', 'Jul-28-23', '03:47PM', 'N/A'], ['AMZN', 'Jul-28-23', '03:47PM\\r\\n', '15 Best Side Hustles From Home'], ['AMZN', 'Jul-28-23', '03:39PM\\r\\n', 'Big Tech Earnings Give Reason for Hope. Now Its Up to Apple and Amazon.'], ['AMZN', 'Jul-28-23', '02:55PM\\r\\n', 'Why Twilio Stock Got a Boost From Amazon on Friday'], ['AMZN', 'Jul-28-23', '01:32PM\\r\\n', 'Amazon.com Inc (AMZN): A High-Performance Contender with a GF Score of 94'], ['AMZN', 'Jul-28-23', '12:38PM\\r\\n', 'Is Amazon.com Inc (AMZN) Significantly Undervalued? A Comprehensive GF Value Analysis'], ['AMZN', 'Jul-28-23', '11:31AM\\r\\n', \"What Amazon's Reduced iRobot Acquisition Price Means for Investors\"], ['AMZN', 'Jul-28-23', '09:14AM\\r\\n', '2 Robinhood Stocks With Market-Beating Potential'], ['AMZN', 'Jul-28-23', '09:00AM\\r\\n', 'Investors in Amazon.com (NASDAQ:AMZN) have seen respectable returns of 40% over the past five years'], ['AMZN', 'Jul-28-23', '08:09AM\\r\\n', 'FANG Stocks News & Quotes: Facebook, Amazon, Netflix, Google'], ['AMZN', 'Jul-28-23', '07:59AM\\r\\n', 'Why Dish Network Stock Popped, Then Dropped This Week'], ['AMZN', 'Jul-28-23', '07:45AM\\r\\n', 'Spotify Just Raised Prices in the U.S.: 5 Things Investors Should Know'], ['AMZN', 'Jul-28-23', '07:00AM\\r\\n', '2 Stocks That Are Up 53% and 45% This Year and Are Still Worth Buying'], ['AMZN', 'Jul-28-23', '06:55AM\\r\\n', \"A Bull Market Is Coming: Warren Buffett's Investing Advice Could Help You Make Money\"], ['AMZN', 'Jul-28-23', '06:40AM\\r\\n', \"Amazon's Boost Infinite Partnership Won't Change a Thing\"], ['AMZN', 'Jul-28-23', '06:30AM\\r\\n', 'Got $1,000? 2 Warren Buffett Stocks to Buy Hand Over Fist'], ['AMZN', 'Jul-28-23', '06:18AM', 'N/A'], ['AMZN', 'Jul-28-23', '06:18AM\\r\\n', 'Indonesia Plans Imported Goods Restrictions in Threat to TikTok'], ['AMZN', 'Jul-28-23', '06:11AM\\r\\n', '3 Companies That Could Be Worth $1 Trillion by 2030'], ['AMZN', 'Jul-28-23', '06:10AM\\r\\n', \"Here's the Best Part About Alphabet's Q2 Numbers\"], ['AMZN', 'Jul-28-23', '06:00AM\\r\\n', 'Three months ago they unionized. Now a strike by Amazon contract drivers is heating up'], ['AMZN', 'Jul-28-23', '05:34AM\\r\\n', '2 Breakout Growth Stocks You Can Buy and Hold for the Next Decade'], ['AMZN', 'Jul-28-23', '05:24AM\\r\\n', 'Alphabet Stock: Bear vs. Bull'], ['AMZN', 'Jul-28-23', '01:09AM\\r\\n', '13 Safe Stocks To Invest In'], ['AMZN', 'Jul-27-23', '07:00PM\\r\\n', 'Is This The Best Way To Play The $700 Billion EV Boom?'], ['AMZN', 'Jul-27-23', '02:36PM\\r\\n', 'AMZN Stock: How This Option Trade On Amazon Could Boost Your Wallet By $215'], ['AMZN', 'Jul-27-23', '02:19PM\\r\\n', \"Earnings Season: 3 Upcoming Reports Investors Can't Ignore\"], ['AMZN', 'Jul-27-23', '01:24PM\\r\\n', 'Company Updates and Marketing Lessons From the Grateful Dead'], ['AMZN', 'Jul-27-23', '12:57PM\\r\\n', 'AWS this week unveiled a generative AI scribe for docs. The competition is fierce.'], ['AMZN', 'Jul-27-23', '10:38AM\\r\\n', 'Why Elizabeth Warren and Lindsey Graham want a new US agency to police Big Tech'], ['AMZN', 'Jul-27-23', '10:38AM\\r\\n', 'Why Elizabeth Warren and Lindsay Graham want a new US agency to police Big Tech'], ['AMZN', 'Jul-27-23', '10:07AM\\r\\n', 'Better Buy: Amazon vs. Costco'], ['AMZN', 'Jul-27-23', '09:40AM\\r\\n', 'Stocks Rise, Techs Jump On Meta Earnings, Strong Economic Data, Solar IPO Is Red Hot'], ['AMZN', 'Jul-27-23', '09:30AM\\r\\n', '2 Gaming Stocks to Buy Right Now'], ['AMZN', 'Jul-27-23', '09:20AM\\r\\n', 'Amazon Is Getting Into the Wireless Business. Are AT&T and Verizon Doomed?'], ['AMZN', 'Jul-27-23', '09:00AM\\r\\n', 'GoodRx launches a virtual medicine cabinet to expand its user base'], ['AMZN', 'Jul-27-23', '09:00AM\\r\\n', 'Occidental Selects AWS as Its Preferred Cloud Provider'], ['AMZN', 'Jul-27-23', '09:00AM\\r\\n', 'Amazon Expands Web3 Reach With Cloud Tools That Help Blockchain Developers'], ['AMZN', 'Jul-27-23', '08:44AM\\r\\n', \"Meta, Microsoft, and Amazon Team Up to Take Down Apple and Alphabet in a Key Segment. Here's What Investors Should Know.\"], ['AMZN', 'Jul-27-23', '08:37AM\\r\\n', 'Retail Stocks And E-Commerce News And Stocks To Watch'], ['AMZN', 'Jul-27-23', '07:40AM\\r\\n', '3 Top E-Commerce Stocks to Buy Right Now'], ['AMZN', 'Jul-27-23', '07:11AM\\r\\n', '2 Top Buffett Stocks to Buy and Hold for the Long Haul'], ['AMZN', 'Jul-27-23', '06:35AM\\r\\n', 'Got $3,000? 3 Growth Stocks to Double Up on Right Now'], ['AMZN', 'Jul-27-23', '05:59AM\\r\\n', 'Stocks Higher, Dovish Fed Rate Hike, Meta Surges, Amazon Earnings Next, Intel On Deck - 5 Things To Know'], ['AMZN', 'Jul-27-23', '05:30AM\\r\\n', 'If you think drug addiction isnt a problem in your workplace, youre wrong'], ['AMZN', 'Jul-27-23', '05:21AM\\r\\n', '3 \"Magnificent Seven\" Stocks to Buy Now and 1 to Avoid, According to Wall Street'], ['AMZN', 'Jul-27-23', '05:00AM\\r\\n', 'Zacks Investment Ideas feature highlights: Apple, Palo Alto Networks, Microsoft, Fidelity Contra and Amazon'], ['AMZN', 'Jul-26-23', '04:53PM\\r\\n', 'Amazon Debuts HIPAA-Eligible Generative AI for Healthcare Providers'], ['AMZN', 'Jul-26-23', '04:36PM\\r\\n', 'EBay Drops as Quarterly Profit Outlook Misses Estimates'], ['AMZN', 'Jul-26-23', '03:01PM\\r\\n', '10 Stocks That Could Be the Next Apple or Amazon'], ['AMZN', 'Jul-26-23', '01:51PM\\r\\n', '5 Amazing Amazon Buys You Can Find This Week for Under $20'], ['AMZN', 'Jul-26-23', '01:28PM\\r\\n', '20 Best AI Chrome Extensions for 2023'], ['AMZN', 'Jul-26-23', '12:28PM\\r\\n', 'How Much Will Amazons High-Speed Satellite Internet Cost Compared to Elon Musks Starlink?'], ['AMZN', 'Jul-26-23', '12:18PM\\r\\n', 'Amazon\\xa0Enters Health Care Generative AI Market, Adds Chatbot Tools'], ['AMZN', 'Jul-26-23', '12:18PM\\r\\n', 'AWS Announces AWS HealthScribe, a New Generative AI-Powered Service that Automatically Creates Clinical Documentation'], ['AMZN', 'Jul-26-23', '11:50AM\\r\\n', 'AWS Announces the General Availability of AWS Entity Resolution to Help Organizations Improve Data Quality and Customer Insights'], ['AMZN', 'Jul-26-23', '11:29AM\\r\\n', 'Amazon offers concessions over third-party sales to appease UK antitrust watchdog'], ['AMZN', 'Jul-26-23', '11:28AM\\r\\n', '5 early takeaways from UPS-Teamsters agreement'], ['AMZN', 'Jul-26-23', '11:26AM\\r\\n', 'AWS Expands Amazon Bedrock With Additional Foundation Models, New Model Provider, and Advanced Capability to Help Customers Build Generative AI Applications'], ['AMZN', 'Jul-26-23', '11:23AM\\r\\n', '1 Green Flag and 1 Red Flag for E-Commerce Stocks'], ['AMZN', 'Jul-26-23', '10:57AM\\r\\n', 'Amazon Offers to Change Marketplace Practices to Appease U.K. Regulator. Why Its a Win for Both Sides.'], ['AMZN', 'Jul-26-23', '10:15AM\\r\\n', 'DISHs Boost Is Coming to Amazon. Why the Stock Is Dropping.'], ['AMZN', 'Jul-26-23', '09:54AM\\r\\n', 'Microsoft, Alphabet, Amazon, & Meta will win the AI arms race: Analyst'], ['AMZN', 'Jul-26-23', '09:45AM\\r\\n', 'Why Is Alphabet Stock Up 6% After Earnings? Is GOOGL Stock a Buy Now?'], ['AMZN', 'Jul-26-23', '09:45AM\\r\\n', 'Better Artificial Intelligence Stock: Apple vs. Amazon'], ['AMZN', 'Jul-26-23', '09:29AM\\r\\n', 'DISH Stock Jumps as Boost Comes to Amazon'], ['AMZN', 'Jul-26-23', '08:53AM\\r\\n', 'Hawaiian Airlines preps for October start of Amazon cargo service'], ['AMZN', 'Jul-26-23', '08:44AM\\r\\n', 'Amazon proposes changes to appease UK competition regulators'], ['AMZN', 'Jul-26-23', '07:15AM\\r\\n', 'Q2 2023 Hawaiian Holdings Inc Earnings Call'], ['AMZN', 'Jul-26-23', '06:35AM\\r\\n', 'UPDATE 1-UK regulator says Amazon proposals address concerns over Marketplace'], ['AMZN', 'Jul-26-23', '06:30AM\\r\\n', 'Got $5,000? These 2 Growth Stocks Are Smart Buys'], ['AMZN', 'Jul-26-23', '06:19AM\\r\\n', 'Got $3,000? These 500 Stocks Could Double Your Money by 2030.'], ['AMZN', 'Jul-26-23', '06:00AM\\r\\n', \"Is Amazon Prime Costing You More Than It's Worth? Here's How to Tell\"], ['AMZN', 'Jul-26-23', '05:52AM\\r\\n', '1 Green Flag for Microsoft in 2023, and 1 Red Flag'], ['AMZN', 'Jul-26-23', '05:30AM\\r\\n', \"Here's Why Amazon May Be Heading for a Spectacular Second Half\"], ['AMZN', 'Jul-26-23', '12:02AM\\r\\n', 'Adam Selipsky: There will not be one generative AI model to rule them all'], ['AMZN', 'Jul-25-23', '08:34PM\\r\\n', 'Why iRobot Stock Fell Today'], ['AMZN', 'Jul-25-23', '04:57PM\\r\\n', 'iRobot Shares Plunge After Amazon Lowers Purchase Price'], ['AMZN', 'Jul-25-23', '04:25PM\\r\\n', 'Walmart teams up with Expedia on travel perks'], ['AMZN', 'Jul-25-23', '03:00PM\\r\\n', \"Meta exec Nick Clegg on AI: 'I definitely think you need regulation'\"], ['AMZN', 'Jul-25-23', '01:30PM\\r\\n', '5 Amazon Items Under $50 That Could Make Your Life Easier'], ['AMZN', 'Jul-25-23', '12:01PM\\r\\n', 'Whole Foods vs. Trader Joes  Which Store Is Better for Your Money?'], ['AMZN', 'Jul-25-23', '11:20AM\\r\\n', 'IRobot Falls After Amazon Lowers Offer 15% to $51.75 a Share'], ['AMZN', 'Jul-25-23', '10:15AM\\r\\n', 'Walmart Is Poised to Pop -- But One Thing Would Make It Even More Attractive'], ['AMZN', 'Jul-25-23', '10:10AM\\r\\n', \"TikTok's Latest Move Is a Clever Way to Draw Its Audience In Further\"], ['AMZN', 'Jul-25-23', '09:12AM\\r\\n', 'Amazon lowers iRobot deal price by 15% after Roomba maker incurs fresh debt'], ['AMZN', 'Jul-25-23', '09:08AM\\r\\n', 'Amazon amends iRobot deal to lower offer price by 15%'], ['META', 'Jul-30-23', '12:00PM\\r\\n', '1 Unstoppable Stock on the Cusp of Joining Nvidia in the $1 Trillion Club in 2023'], ['META', 'Jul-30-23', '07:00AM\\r\\n', 'I Was Wrong: Meta Can Do More With Less, For Now'], ['META', 'Jul-30-23', '05:21AM\\r\\n', \"1 Supercharged Growth Stock That's a Shoo-in to Rejoin Apple, Microsoft, Alphabet, Amazon, and Nvidia in the $1 Trillion Club\"], ['META', 'Jul-30-23', '12:01AM\\r\\n', \"This week in tech: Surges at Alphabet, Meta, Intel; Microsoft's growing AI spend\"], ['META', 'Jul-29-23', '07:00AM\\r\\n', 'Is Meta Stock Still A Buy After Facebook Parent Surges On Earnings, Outlook?'], ['META', 'Jul-29-23', '07:00AM', 'N/A'], ['META', 'Jul-29-23', '07:00AM\\r\\n', \"Twitter Is Now 'X': How Other Rebrands Have Succeeded\"], ['META', 'Jul-29-23', '06:41AM\\r\\n', 'Is It Too Late to Buy Meta Platforms Stock?'], ['META', 'Jul-28-23', '06:48PM\\r\\n', 'Alphabet, Meta Platforms, and Boeing Stock Could Climb'], ['META', 'Jul-28-23', '05:43PM\\r\\n', 'These 3 Quarterly Releases Positively Shocked the Market'], ['META', 'Jul-28-23', '05:00PM\\r\\n', 'Is Meta Platforms Stock a Buy Now?'], ['META', 'Jul-28-23', '04:55PM\\r\\n', \"Inflation cooling, Palantir stock jumps, 'Barbie' box office haul: Friday's top stories\"], ['META', 'Jul-28-23', '04:49PM\\r\\n', 'Roku, Intel, Meta, Snap: Earnings season winners and losers'], ['META', 'Jul-28-23', '04:48PM\\r\\n', 'The Score: Mattel, PacWest, Meta and More Stocks That Defined the Week'], ['META', 'Jul-28-23', '03:39PM\\r\\n', 'Big Tech Earnings Give Reason for Hope. Now Its Up to Apple and Amazon.'], ['META', 'Jul-28-23', '03:37PM\\r\\n', 'Musk vs. Zuckerberg: Who would win in a cage match?'], ['META', 'Jul-28-23', '02:06PM', 'N/A'], ['META', 'Jul-28-23', '02:06PM\\r\\n', 'Stock Market Rallies Amid Huge Earnings, Fed Rate Hike, Inflation Data: Weekly Review'], ['META', 'Jul-28-23', '01:58PM\\r\\n', 'Why Meta Platforms Stock Rallied on Friday'], ['META', 'Jul-28-23', '01:42PM\\r\\n', 'Big Techs buzzword season'], ['META', 'Jul-28-23', '01:11PM\\r\\n', 'Why Alphabet Stock Rallied Friday'], ['META', 'Jul-28-23', '10:29AM\\r\\n', 'Top-Performing Mutual Funds for 10 Years'], ['META', 'Jul-28-23', '10:00AM\\r\\n', 'Mark Zuckerberg Says AI Is First Priority, but Metaverse Still Long-Term Goal -- Is Meta Stock a Buy?'], ['META', 'Jul-28-23', '10:00AM\\r\\n', 'Meta Platforms Insiders Sell US$8.4m Of Stock, Possibly Signalling Caution'], ['META', 'Jul-28-23', '09:44AM\\r\\n', 'AI Mentions on the Rise in Tech Earnings Calls as Recession Talk Fades'], ['META', 'Jul-28-23', '09:05AM\\r\\n', '1 Monster Metaverse Stock to Buy for the Long Haul'], ['META', 'Jul-28-23', '08:28AM\\r\\n', 'Malaysia reverses plan to take legal action against Meta over harmful content'], ['META', 'Jul-28-23', '08:07AM\\r\\n', \"Meta's Stock Gets a Surprising New Price Target\"], ['META', 'Jul-28-23', '08:00AM\\r\\n', 'Mark Zuckerberg Snatches Prized Bragging Right From Warren Buffett'], ['META', 'Jul-28-23', '07:00AM\\r\\n', \"RPT-Meta plans retention 'hooks' for Threads as more than half of users leave app\"], ['META', 'Jul-28-23', '05:30AM\\r\\n', 'Facebook Bowed to White House Pressure, Removed Covid Posts'], ['META', 'Jul-28-23', '05:25AM\\r\\n', 'Qualcomm and Meta Team Up on AI -- 1 of These Is an AI Sleeper Stock'], ['META', 'Jul-28-23', '03:30AM', 'N/A'], ['META', 'Jul-28-23', '03:30AM\\r\\n', 'Dont Be Fooled by the Stock Markets Summer Doldrums'], ['META', 'Jul-28-23', '01:15AM\\r\\n', '4 big analyst picks: Meta notches several upgrades on strong Q2 Performance'], ['META', 'Jul-28-23', '01:11AM\\r\\n', '5 big earnings hits: Meta delights, Microsoft warns in huge week for tech, AI'], ['META', 'Jul-27-23', '09:34PM\\r\\n', \"Meta plans retention 'hooks' for Threads as more than half of users leave app\"], ['META', 'Jul-27-23', '09:25PM\\r\\n', \"Meta plans retention 'hooks' for Threads as more than half of users leave app\"], ['META', 'Jul-27-23', '07:00PM\\r\\n', 'Is This The Best Way To Play The $700 Billion EV Boom?'], ['META', 'Jul-27-23', '06:02PM\\r\\n', 'Threads can become the purest form of social media as long as Meta and Mark Zuckerberg agree to one thing, says tech exec'], ['META', 'Jul-27-23', '05:59PM\\r\\n', \"Meta's Reels revenue narrows in on TikTok, boosted by AI\"], ['META', 'Jul-27-23', '05:55PM\\r\\n', 'Why Few Investors Were Excited About Alphabet Stock Today'], ['META', 'Jul-27-23', '05:50PM\\r\\n', \"Meta's Reels revenue narrows in on TikTok, boosted by AI\"], ['META', 'Jul-27-23', '05:22PM\\r\\n', \"7 Things You May Have Missed From Meta's Earnings\"], ['META', 'Jul-27-23', '05:14PM\\r\\n', 'Dows Winning Streak Comes to an End'], ['META', 'Jul-27-23', '04:26PM\\r\\n', \"Fed's messaging has been consistent, but market isn't listening: Strategist\"], ['META', 'Jul-27-23', '04:18PM\\r\\n', 'These Stocks Moved the Most Today: Meta, Chipotle, Southwest, Royal Caribbean, QuantumScape, Align, and More'], ['META', 'Jul-27-23', '04:16PM\\r\\n', \"Meta a 'faster, nimbler' company after cost cuts, CFO says\"], ['META', 'Jul-27-23', '04:13PM\\r\\n', 'Stock Market Today: Stocks Drop Despite Solid Meta Earnings'], ['META', 'Jul-27-23', '04:07PM\\r\\n', 'Meta Stock Surges As Facebook Parent Breaks Quarterly Losing Streak'], ['META', 'Jul-27-23', '03:53PM\\r\\n', 'Does Facebook Polarize Users? Meta Disagrees With Partners Over Research Conclusions'], ['META', 'Jul-27-23', '03:49PM\\r\\n', \"Meta's Comeback Gains Traction\"], ['META', 'Jul-27-23', '03:39PM\\r\\n', 'GF Score Analysis: Meta Platforms Inc (META)'], ['META', 'Jul-27-23', '02:43PM\\r\\n', \"Meta's stock rally hasn't been about the metaverse at all\"], ['META', 'Jul-27-23', '02:40PM\\r\\n', 'Meta Has a Rare Opportunity to Seize Momentum With Threads'], ['META', 'Jul-27-23', '02:14PM\\r\\n', 'Why Meta Platforms Stock Was Gaining This Week'], ['META', 'Jul-27-23', '02:08PM\\r\\n', 'Facebook False News in US Election Reached More Conservatives, Study Says'], ['META', 'Jul-27-23', '02:00PM\\r\\n', \"Deep dive into Meta's algorithms shows that America's political polarization has no easy fix\"], ['META', 'Jul-27-23', '01:55PM\\r\\n', \"Overlooked Factors of Meta's Earnings\"], ['META', 'Jul-27-23', '01:42PM\\r\\n', 'These Stocks Are Moving the Most Today: Meta, Chipotle, Southwest, Royal Caribbean, QuantumScape, Align, and More'], ['META', 'Jul-27-23', '01:29PM\\r\\n', \"Republican-led committee calls off vote to hold Meta's Mark Zuckerberg in contempt\"], ['META', 'Jul-27-23', '01:27PM\\r\\n', 'Mark Zuckerberg Could Be Held in Contempt of Congress: What to Know'], ['META', 'Jul-27-23', '01:21PM\\r\\n', 'European Central Bank raises interest rates to 22-year high'], ['META', 'Jul-27-23', '12:34PM\\r\\n', 'Meta Platforms (META): A Modestly Undervalued Investment Opportunity?'], ['META', 'Jul-27-23', '12:31PM\\r\\n', 'These Stocks Are Moving the Most Today: Meta, Chipotle, Southwest, Royal Caribbean, QuantumScape, Align, and More'], ['META', 'Jul-27-23', '12:16PM\\r\\n', \"What comes next for Meta's Threads?\"], ['META', 'Jul-27-23', '12:14PM\\r\\n', \"Meta Platforms' (META) Q2 Earnings Beat, Revenues Up Y/Y\"], ['META', 'Jul-27-23', '12:13PM\\r\\n', 'Meta Platforms, Comcast rise; Bristol-Myers, Sunnova fall, Thursday, 7/27/2023'], ['META', 'Jul-27-23', '12:11PM\\r\\n', 'Meta Gave Investors 3 Billion Reasons to Buy and 40 Billion Reasons to Sell'], ['META', 'Jul-27-23', '11:58AM\\r\\n', 'Meta stock jumps on earnings beat: Key takeaways from the earnings call'], ['META', 'Jul-27-23', '11:49AM\\r\\n', 'Why Meta Platforms Stock Was Surging Today'], ['META', 'Jul-27-23', '11:48AM\\r\\n', 'Meta Has Rebounded But The Metaverse Is Still Far From Reality'], ['META', 'Jul-27-23', '11:38AM\\r\\n', \"What's Going On With Nvidia Stock Thursday?\"], ['META', 'Jul-27-23', '11:38AM\\r\\n', 'US senators Warren, Graham kick off bipartisan anti-Big Tech push'], ['META', 'Jul-27-23', '11:33AM\\r\\n', \"What's Going On With Alibaba Stock Thursday?\"], ['META', 'Jul-27-23', '10:58AM\\r\\n', 'Cathie Wood Speaks Her Mind on Tesla, Meta, Nvidia, AI, and More'], ['META', 'Jul-27-23', '10:38AM\\r\\n', 'Why Elizabeth Warren and Lindsey Graham want a new US agency to police Big Tech'], ['META', 'Jul-27-23', '10:38AM\\r\\n', 'Why Elizabeth Warren and Lindsay Graham want a new US agency to police Big Tech'], ['META', 'Jul-27-23', '10:17AM\\r\\n', 'US STOCKS-Wall Street rises on Meta boost, soft landing hopes'], ['META', 'Jul-27-23', '09:56AM\\r\\n', \"Meta Platforms upgraded, Estee Lauder downgraded: Wall Street's top analyst call\"], ['META', 'Jul-27-23', '09:51AM\\r\\n', 'U.S. Stocks to Watch Thursday: Meta, Southwest, Chipotle, Royal Caribbean'], ['META', 'Jul-27-23', '09:48AM\\r\\n', 'Meta stock jumps on digital advertising boost, outlook for Threads'], ['META', 'Jul-27-23', '09:46AM\\r\\n', \"Meta's Rising, but Another Nasdaq Stock Is Jumping Even Higher\"], ['META', 'Jul-27-23', '09:40AM\\r\\n', 'Stocks Rise, Techs Jump On Meta Earnings, Strong Economic Data, Solar IPO Is Red Hot'], ['META', 'Jul-27-23', '09:14AM\\r\\n', \"Meta's Threads outlook, McDonald's sales, Chipotle earnings: 3 Things\"], ['META', 'Jul-27-23', '09:07AM\\r\\n', 'US STOCKS-Wall Street eyes higher open after Meta results, Fed optimism'], ['META', 'Jul-27-23', '08:44AM\\r\\n', \"Meta, Microsoft, and Amazon Team Up to Take Down Apple and Alphabet in a Key Segment. Here's What Investors Should Know.\"], ['META', 'Jul-27-23', '08:29AM\\r\\n', \"Fed's July Rate Hike and Comments Match Expectations: 5 Picks\"], ['META', 'Jul-27-23', '07:41AM\\r\\n', \"Meta Platforms Surges on Earnings and Guidance, So I'm Raising My Price Targets\"], ['META', 'Jul-27-23', '07:33AM\\r\\n', 'Ad Revenue Growth Helps Meta Beat Earnings Expectations'], ['META', 'Jul-27-23', '07:30AM\\r\\n', 'US STOCKS-Wall Street futures rise after Meta results, Fed optimism'], ['META', 'Jul-27-23', '07:21AM\\r\\n', 'Q2 2023 Meta Platforms Inc Earnings Call'], ['META', 'Jul-27-23', '07:13AM\\r\\n', '5 Things to Know Before Markets Open'], ['META', 'Jul-27-23', '06:36AM\\r\\n', 'The Market vs. Fed Fight Rages On. Why Inflation Divides Them.'], ['META', 'Jul-27-23', '06:29AM\\r\\n', 'Meta on Track to Hit Levels Last Seen Before Historic Crash'], ['META', 'Jul-27-23', '06:00AM\\r\\n', 'REFILE-MORNING BID AMERICAS-ECB to follow Fed hike, Meta surges'], ['META', 'Jul-27-23', '05:59AM\\r\\n', 'Stocks Higher, Dovish Fed Rate Hike, Meta Surges, Amazon Earnings Next, Intel On Deck - 5 Things To Know'], ['META', 'Jul-27-23', '05:31AM\\r\\n', 'The FAANG Stocks Are Back -- But the GHOST Stocks Beat Them Hands Down Over the Past Year'], ['META', 'Jul-27-23', '05:20AM\\r\\n', 'Nasdaq futures rise after Meta results, Fed optimism'], ['META', 'Jul-27-23', '05:16AM\\r\\n', 'US STOCKS-Nasdaq futures rise after Meta results, Fed optimism'], ['META', 'Jul-27-23', '05:16AM\\r\\n', 'Meta Shares Climb After Revenue, Forecast Beat Estimates'], ['META', 'Jul-27-23', '04:58AM\\r\\n', \"Meta rallies as AI-powered ad sales drive 'monster' forecast\"], ['META', 'Jul-27-23', '02:07AM\\r\\n', 'Meta Remains Committed to the Metaverse, Mark Zuckerberg Says'], ['GOOG', 'Jul-30-23', '02:56PM\\r\\n', '50 Most Populated Countries In 2050'], ['GOOG', 'Jul-30-23', '06:16AM\\r\\n', \"Alphabet's Growth Is Accelerating: Is It Time to Buy This Unstoppable Stock?\"], ['GOOG', 'Jul-30-23', '05:21AM\\r\\n', \"1 Supercharged Growth Stock That's a Shoo-in to Rejoin Apple, Microsoft, Alphabet, Amazon, and Nvidia in the $1 Trillion Club\"], ['GOOG', 'Jul-30-23', '05:02AM\\r\\n', 'TipRanks Perfect 10 List: These 2 Tech Titans Could Reach New Highs'], ['GOOG', 'Jul-30-23', '12:01AM\\r\\n', \"This week in tech: Surges at Alphabet, Meta, Intel; Microsoft's growing AI spend\"], ['GOOG', 'Jul-30-23', '08:13PM', 'N/A'], ['GOOG', 'Jul-29-23', '08:13PM\\r\\n', 'Why Alphabet Stock Soared Higher This Week'], ['GOOG', 'Jul-29-23', '10:00AM\\r\\n', 'Alphabet (NASDAQ:GOOGL) jumps 10% this week, though earnings growth is still tracking behind five-year shareholder returns'], ['GOOG', 'Jul-29-23', '07:51AM\\r\\n', 'What The Generative AI Boom Means For Your Job, The Economy And The S&P 500'], ['GOOG', 'Jul-29-23', '07:22AM\\r\\n', 'A Bull Market Is Coming: 1 Artificial Intelligence (AI) Growth Stock Has Billionaires Betting Big'], ['GOOG', 'Jul-28-23', '10:15PM\\r\\n', 'Morningstar | A Weekly Summary of Stock Ideas and Developments in the Companies We Cover'], ['GOOG', 'Jul-28-23', '06:56PM\\r\\n', 'Weekly Roundup'], ['GOOG', 'Jul-28-23', '06:48PM\\r\\n', 'Alphabet, Meta Platforms, and Boeing Stock Could Climb'], ['GOOG', 'Jul-28-23', '03:59PM\\r\\n', 'Big Tech Giants Are Working to Change the Mapping Industry'], ['GOOG', 'Jul-28-23', '03:39PM\\r\\n', 'Big Tech Earnings Give Reason for Hope. Now Its Up to Apple and Amazon.'], ['GOOG', 'Jul-28-23', '02:58PM\\r\\n', '20 Countries with the Highest Minimum Wage in the World'], ['GOOG', 'Jul-28-23', '02:56PM', 'N/A'], ['GOOG', 'Jul-28-23', '02:56PM\\r\\n', 'Affirm CEO Sees Little Appetite in the US for Elon Musks Everything App'], ['GOOG', 'Jul-28-23', '02:30PM\\r\\n', 'Researchers find a way to easily bypass guardrails on OpenAIs ChatGPT and all other A.I. chatbots'], ['GOOG', 'Jul-28-23', '02:06PM\\r\\n', 'Stock Market Rallies Amid Huge Earnings, Fed Rate Hike, Inflation Data: Weekly Review'], ['GOOG', 'Jul-28-23', '01:32PM\\r\\n', 'Alphabet Inc. (GOOGL) Tops the Charts with a Perfect GF Score of 100'], ['GOOG', 'Jul-28-23', '01:31PM\\r\\n', 'Seth Klarman Trims Stake in Garrett Motion Inc'], ['GOOG', 'Jul-28-23', '01:11PM\\r\\n', 'Why Alphabet Stock Rallied Friday'], ['GOOG', 'Jul-28-23', '12:26PM\\r\\n', 'Buying and selling in autonomous trucking developer Aurora Innovation'], ['GOOG', 'Jul-28-23', '11:31AM\\r\\n', \"What Amazon's Reduced iRobot Acquisition Price Means for Investors\"], ['GOOG', 'Jul-28-23', '10:07AM\\r\\n', 'Google U.K. boss says you cant trust its chatbot Bard for accurate information'], ['GOOG', 'Jul-28-23', '09:14AM\\r\\n', '2 Robinhood Stocks With Market-Beating Potential'], ['GOOG', 'Jul-28-23', '08:27AM\\r\\n', 'Alphabet (GOOG) Bounced Back in Q2'], ['GOOG', 'Jul-28-23', '08:09AM\\r\\n', 'FANG Stocks News & Quotes: Facebook, Amazon, Netflix, Google'], ['GOOG', 'Jul-28-23', '06:22AM\\r\\n', 'Hong Kong Loses Court Bid to Ban Protest Song Appearing on Google'], ['GOOG', 'Jul-28-23', '06:18AM\\r\\n', 'Hong Kong Fails to Bar Protest Song in Surprise Court Ruling'], ['GOOG', 'Jul-28-23', '06:10AM\\r\\n', \"Here's the Best Part About Alphabet's Q2 Numbers\"], ['GOOG', 'Jul-28-23', '05:28AM', 'N/A'], ['GOOG', 'Jul-28-23', '05:28AM\\r\\n', 'UPDATE 2-Hong Kong court rejects govt bid to ban protest song'], ['GOOG', 'Jul-28-23', '05:24AM\\r\\n', 'Alphabet Stock: Bear vs. Bull'], ['GOOG', 'Jul-28-23', '01:11AM\\r\\n', '5 big earnings hits: Meta delights, Microsoft warns in huge week for tech, AI'], ['GOOG', 'Jul-27-23', '07:00PM\\r\\n', 'Is This The Best Way To Play The $700 Billion EV Boom?'], ['GOOG', 'Jul-27-23', '05:55PM\\r\\n', 'Why Few Investors Were Excited About Alphabet Stock Today'], ['GOOG', 'Jul-27-23', '04:54PM\\r\\n', '50 Most Valuable Companies in the World by Market Cap'], ['GOOG', 'Jul-27-23', '04:26PM\\r\\n', \"Fed's messaging has been consistent, but market isn't listening: Strategist\"], ['GOOG', 'Jul-27-23', '03:12PM\\r\\n', 'Google Emphasizes Its Ability To Retain Its Power In The AI-Powered Future'], ['GOOG', 'Jul-27-23', '02:22PM\\r\\n', 'Could This AI Stock Double Your Money by 2030?'], ['GOOG', 'Jul-27-23', '02:15PM\\r\\n', 'Loaded and Rolling: Yellow exec says bankruptcy coming Monday'], ['GOOG', 'Jul-27-23', '01:24PM\\r\\n', 'Market Update: CB, CMG, GOOGL, URI, MA, GM, SNAP'], ['GOOG', 'Jul-27-23', '01:24PM\\r\\n', 'Analyst Report: Alphabet Inc'], ['GOOG', 'Jul-27-23', '12:57PM\\r\\n', 'AWS this week unveiled a generative AI scribe for docs. The competition is fierce.'], ['GOOG', 'Jul-27-23', '12:00PM\\r\\n', 'Google compares and contrasts'], ['GOOG', 'Jul-27-23', '11:49AM\\r\\n', 'US senators Warren, Graham kick off bipartisan anti-Big Tech push'], ['GOOG', 'Jul-27-23', '11:38AM\\r\\n', 'US senators Warren, Graham kick off bipartisan anti-Big Tech push'], ['GOOG', 'Jul-27-23', '11:03AM\\r\\n', 'Despite Slowing Growth, the Battle for Artificial Intelligence (AI) Domination Between Google and Microsoft Is Kicking Off in the Cloud'], ['GOOG', 'Jul-27-23', '10:38AM\\r\\n', 'Why Elizabeth Warren and Lindsey Graham want a new US agency to police Big Tech'], ['GOOG', 'Jul-27-23', '10:38AM\\r\\n', 'Why Elizabeth Warren and Lindsay Graham want a new US agency to police Big Tech'], ['GOOG', 'Jul-27-23', '09:40AM\\r\\n', 'Stocks Rise, Techs Jump On Meta Earnings, Strong Economic Data, Solar IPO Is Red Hot'], ['GOOG', 'Jul-27-23', '09:13AM\\r\\n', 'Alphabet CEO Sundar Pichai Says AI Start-Ups Are Choosing Google Cloud -- Time to Buy the Stock?'], ['GOOG', 'Jul-27-23', '09:04AM\\r\\n', \"'2024 Elections Will Be A Mess' Because Of AI, Says Former Google CEO  Misleading And Fake Info Top Concern Among State Election Officials\"], ['GOOG', 'Jul-27-23', '08:44AM\\r\\n', \"Meta, Microsoft, and Amazon Team Up to Take Down Apple and Alphabet in a Key Segment. Here's What Investors Should Know.\"], ['GOOG', 'Jul-27-23', '08:41AM\\r\\n', 'Alphabet (GOOGL) Stock Quotes, Company News And Chart Analysis'], ['GOOG', 'Jul-27-23', '08:29AM\\r\\n', \"Fed's July Rate Hike and Comments Match Expectations: 5 Picks\"], ['GOOG', 'Jul-27-23', '06:26AM\\r\\n', \"UPDATE 2-Yandex's Q2 profits fall as costs rise versus 2022 'anomaly'\"], ['GOOG', 'Jul-27-23', '06:24AM\\r\\n', 'Meta: $88bn asset stack sets vast payback challenge'], ['GOOG', 'Jul-27-23', '06:05AM\\r\\n', \"Wish You'd Bought Apple Stock in 2009? Top Analyst Dan Ives Says Do This Right Now.\"], ['GOOG', 'Jul-27-23', '06:00AM\\r\\n', '1 Tech Stock You Can Buy and Hold for the Next Decade'], ['GOOG', 'Jul-27-23', '05:31AM\\r\\n', 'The FAANG Stocks Are Back -- But the GHOST Stocks Beat Them Hands Down Over the Past Year'], ['GOOG', 'Jul-27-23', '05:21AM\\r\\n', '3 \"Magnificent Seven\" Stocks to Buy Now and 1 to Avoid, According to Wall Street'], ['GOOG', 'Jul-27-23', '05:00AM\\r\\n', 'Zacks Earnings Trends Highlights: Microsoft, Meta, Nvidia and Alphabet'], ['GOOG', 'Jul-27-23', '05:00AM\\r\\n', 'Is Alphabet Stock a Buy After Q2 Earnings?'], ['GOOG', 'Jul-26-23', '07:23PM\\r\\n', 'Alphabet grew revenue faster than spending for the first time since 2021. Can the internet giant pull it off again?'], ['GOOG', 'Jul-26-23', '07:00PM\\r\\n', 'Big Tech Allies Map Out a Challenge to Google and Apple'], ['GOOG', 'Jul-26-23', '07:00PM\\r\\n', 'Samsung Aims to Slash Cost of Foldables in Fight With iPhone'], ['GOOG', 'Jul-26-23', '05:50PM\\r\\n', 'Waymo Via backs away from autonomous trucking'], ['GOOG', 'Jul-26-23', '05:42PM\\r\\n', '30 Best Excuses to Get Out of Work Provided By AI Chatbots'], ['GOOG', 'Jul-26-23', '05:40PM\\r\\n', 'Strong Tech Results Reflect a Resilient Earnings Picture'], ['GOOG', 'Jul-26-23', '05:28PM\\r\\n', 'Waymo to focus on ride-hailing services, pushes back autonomous trucking efforts'], ['GOOG', 'Jul-26-23', '05:16PM\\r\\n', 'Waymo to focus on ride-hailing services, pushes back autonomous trucking efforts'], ['GOOG', 'Jul-26-23', '05:08PM\\r\\n', 'These Stocks Moved the Most Today: Microsoft, Alphabet, Boeing, XPeng, Snap, Teladoc, and More'], ['GOOG', 'Jul-26-23', '05:03PM\\r\\n', 'S&P 500 Gains and Losses Today: Stocks Mixed After Fed Lifts Rates'], ['GOOG', 'Jul-26-23', '04:41PM\\r\\n', \"Generative AI To Unleash Roaring '20s Productivity Boom And Long S&P 500 Bull Market\"], ['GOOG', 'Jul-26-23', '04:13PM\\r\\n', 'Meta earnings: Facebook parent beats on revenue, guidance, stock climbs after hours'], ['GOOG', 'Jul-26-23', '04:12PM\\r\\n', 'Google Earnings Beat Views Amid Rising AI Investments To Drive Ad, Cloud Growth'], ['GOOG', 'Jul-26-23', '04:00PM\\r\\n', 'US STOCKS-U.S. stocks close little changed after Fed statement'], ['GOOG', 'Jul-26-23', '03:25PM\\r\\n', 'AI Could Spark the Most Productive Decade Ever, Says the CEO of This Nvidia-Backed Start-Up'], ['GOOG', 'Jul-26-23', '02:36PM\\r\\n', 'Microsoft and Alphabet Earnings Review: Buy One, Avoid the Other'], ['GOOG', 'Jul-26-23', '02:33PM\\r\\n', 'Alphabets CFO Has a New Role. Heres What It Means.'], ['GOOG', 'Jul-26-23', '02:17PM\\r\\n', \"Rebel's Edge - July 26: $GOOGL, $UNP, $SNAP, and NFL Salaries\"], ['GOOG', 'Jul-26-23', '02:10PM\\r\\n', 'Unlike Alphabet, Microsoft Said Something That The Market Was Not Happy To Hear'], ['GOOG', 'Jul-26-23', '02:07PM\\r\\n', 'These Stocks Are Moving the Most Today: Microsoft, Alphabet, Boeing, XPeng, Snap, Teladoc, and More'], ['GOOG', 'Jul-26-23', '01:10PM\\r\\n', '[video]VIDEO: Comparing Microsoft and Alphabet Earnings and Your Top Questions Answered'], ['GOOG', 'Jul-26-23', '01:07PM\\r\\n', 'Amazon, Meta and Microsoft Take On Google in Area Company Has Dominated'], ['GOOG', 'Jul-26-23', '01:02PM\\r\\n', 'Alphabet Inc (GOOGL): A Comprehensive GF Score Analysis'], ['GOOG', 'Jul-26-23', '12:59PM\\r\\n', 'UPDATE 1-AI industry leaders create forum to build powerful tech safely'], ['GOOG', 'Jul-26-23', '12:32PM\\r\\n', 'Alphabet (GOOG): A Modestly Undervalued Gem in the Tech Sector?'], ['GOOG', 'Jul-26-23', '12:32PM\\r\\n', 'Alphabet (GOOGL): A Modestly Undervalued Tech Giant?'], ['GOOG', 'Jul-26-23', '12:20PM\\r\\n', 'Why Alphabet Stock Was Climbing Today'], ['GOOG', 'Jul-26-23', '12:18PM\\r\\n', 'Amazon Cloud Unit Enters Health Care AI Market, Adds Chatbot Tools'], ['GOOG', 'Jul-26-23', '12:11PM\\r\\n', 'Markets Mixed and Little Changed at Midday Ahead of Fed Decision'], ['GOOG', 'Jul-26-23', '12:03PM\\r\\n', 'US STOCKS-S&P 500, Nasdaq slide as Big Tech results roll in; Fed in focus'], ['GOOG', 'Jul-26-23', '11:58AM\\r\\n', \"Our Take on Alphabet's Earnings\"], ['GOOG', 'Jul-26-23', '11:50AM\\r\\n', 'Exclusive-Amazon has drawn thousands to try its AI service competing with Microsoft, Google'], ['GOOG', 'Jul-26-23', '11:48AM\\r\\n', 'Union Pacific, Boeing rise; Snap, Microsoft fall: Wednesday, 7/26/2023'], ['GOOG', 'Jul-26-23', '11:41AM\\r\\n', 'Nvidias Earnings Could Surge. Just Listen to Microsoft and Google.'], ['GOOG', 'Jul-26-23', '11:39AM\\r\\n', 'Alphabet stock rallies after second quarter results beat expectations'], ['GOOG', 'Jul-26-23', '10:59AM\\r\\n', \"Our Take on Microsoft's Earnings\"], ['GOOG', 'Jul-26-23', '10:59AM\\r\\n', \"Here's an Earnings Breakdown of a Key Portfolio Name\"]]\n"
     ]
    }
   ],
   "source": [
    "parsed_data=[]\n",
    "\n",
    "for ticker, news_table in news_tables.items():\n",
    "\n",
    "    for row in news_table.findAll(\"tr\"):\n",
    "\n",
    "        if row.a:\n",
    "            title = row.a.text\n",
    "        else:\n",
    "            title = \"N/A\"\n",
    "        date_data = row.td.text.split(' ')\n",
    "\n",
    "        if(len(date_data)>10):\n",
    "            if len(date_data) ==21:\n",
    "                time = date_data[12]\n",
    "            else:\n",
    "                date = date_data[12]\n",
    "                time = date_data[13]\n",
    "        elif(len(date_data) == 1):\n",
    "            time = date_data[0]\n",
    "        else:\n",
    "            date = date_data[0]\n",
    "            time = date_data[1]\n",
    "\n",
    "        parsed_data.append([ticker,date,time,title])\n",
    "\n",
    "print(parsed_data)"
   ]
  },
  {
   "cell_type": "code",
   "execution_count": 45,
   "metadata": {},
   "outputs": [
    {
     "data": {
      "text/html": [
       "<div>\n",
       "<style scoped>\n",
       "    .dataframe tbody tr th:only-of-type {\n",
       "        vertical-align: middle;\n",
       "    }\n",
       "\n",
       "    .dataframe tbody tr th {\n",
       "        vertical-align: top;\n",
       "    }\n",
       "\n",
       "    .dataframe thead th {\n",
       "        text-align: right;\n",
       "    }\n",
       "</style>\n",
       "<table border=\"1\" class=\"dataframe\">\n",
       "  <thead>\n",
       "    <tr style=\"text-align: right;\">\n",
       "      <th></th>\n",
       "      <th>ticker</th>\n",
       "      <th>date</th>\n",
       "      <th>time</th>\n",
       "      <th>title</th>\n",
       "    </tr>\n",
       "  </thead>\n",
       "  <tbody>\n",
       "    <tr>\n",
       "      <th>0</th>\n",
       "      <td>AMZN</td>\n",
       "      <td>Jul-30-23</td>\n",
       "      <td>01:15PM\\r\\n</td>\n",
       "      <td>Week Ahead: UK rates set to hit 15-year high</td>\n",
       "    </tr>\n",
       "    <tr>\n",
       "      <th>1</th>\n",
       "      <td>AMZN</td>\n",
       "      <td>Jul-30-23</td>\n",
       "      <td>10:43AM\\r\\n</td>\n",
       "      <td>Apple, Amazon earnings, July jobs report: What...</td>\n",
       "    </tr>\n",
       "    <tr>\n",
       "      <th>2</th>\n",
       "      <td>AMZN</td>\n",
       "      <td>Jul-30-23</td>\n",
       "      <td>10:00AM\\r\\n</td>\n",
       "      <td>Got $1,000? Buy These Hot Growth Stocks Before...</td>\n",
       "    </tr>\n",
       "    <tr>\n",
       "      <th>3</th>\n",
       "      <td>AMZN</td>\n",
       "      <td>Jul-30-23</td>\n",
       "      <td>08:00AM\\r\\n</td>\n",
       "      <td>Bull Market Is Coming: 3 Growth Stocks to Buy Now</td>\n",
       "    </tr>\n",
       "    <tr>\n",
       "      <th>4</th>\n",
       "      <td>AMZN</td>\n",
       "      <td>Jul-30-23</td>\n",
       "      <td>07:09AM\\r\\n</td>\n",
       "      <td>20 Least Educated States in America</td>\n",
       "    </tr>\n",
       "    <tr>\n",
       "      <th>...</th>\n",
       "      <td>...</td>\n",
       "      <td>...</td>\n",
       "      <td>...</td>\n",
       "      <td>...</td>\n",
       "    </tr>\n",
       "    <tr>\n",
       "      <th>304</th>\n",
       "      <td>GOOG</td>\n",
       "      <td>Jul-26-23</td>\n",
       "      <td>11:48AM\\r\\n</td>\n",
       "      <td>Union Pacific, Boeing rise; Snap, Microsoft fa...</td>\n",
       "    </tr>\n",
       "    <tr>\n",
       "      <th>305</th>\n",
       "      <td>GOOG</td>\n",
       "      <td>Jul-26-23</td>\n",
       "      <td>11:41AM\\r\\n</td>\n",
       "      <td>Nvidias Earnings Could Surge. Just Listen to M...</td>\n",
       "    </tr>\n",
       "    <tr>\n",
       "      <th>306</th>\n",
       "      <td>GOOG</td>\n",
       "      <td>Jul-26-23</td>\n",
       "      <td>11:39AM\\r\\n</td>\n",
       "      <td>Alphabet stock rallies after second quarter re...</td>\n",
       "    </tr>\n",
       "    <tr>\n",
       "      <th>307</th>\n",
       "      <td>GOOG</td>\n",
       "      <td>Jul-26-23</td>\n",
       "      <td>10:59AM\\r\\n</td>\n",
       "      <td>Our Take on Microsoft's Earnings</td>\n",
       "    </tr>\n",
       "    <tr>\n",
       "      <th>308</th>\n",
       "      <td>GOOG</td>\n",
       "      <td>Jul-26-23</td>\n",
       "      <td>10:59AM\\r\\n</td>\n",
       "      <td>Here's an Earnings Breakdown of a Key Portfoli...</td>\n",
       "    </tr>\n",
       "  </tbody>\n",
       "</table>\n",
       "<p>309 rows × 4 columns</p>\n",
       "</div>"
      ],
      "text/plain": [
       "    ticker       date         time  \\\n",
       "0     AMZN  Jul-30-23  01:15PM\\r\\n   \n",
       "1     AMZN  Jul-30-23  10:43AM\\r\\n   \n",
       "2     AMZN  Jul-30-23  10:00AM\\r\\n   \n",
       "3     AMZN  Jul-30-23  08:00AM\\r\\n   \n",
       "4     AMZN  Jul-30-23  07:09AM\\r\\n   \n",
       "..     ...        ...          ...   \n",
       "304   GOOG  Jul-26-23  11:48AM\\r\\n   \n",
       "305   GOOG  Jul-26-23  11:41AM\\r\\n   \n",
       "306   GOOG  Jul-26-23  11:39AM\\r\\n   \n",
       "307   GOOG  Jul-26-23  10:59AM\\r\\n   \n",
       "308   GOOG  Jul-26-23  10:59AM\\r\\n   \n",
       "\n",
       "                                                 title  \n",
       "0         Week Ahead: UK rates set to hit 15-year high  \n",
       "1    Apple, Amazon earnings, July jobs report: What...  \n",
       "2    Got $1,000? Buy These Hot Growth Stocks Before...  \n",
       "3    Bull Market Is Coming: 3 Growth Stocks to Buy Now  \n",
       "4                  20 Least Educated States in America  \n",
       "..                                                 ...  \n",
       "304  Union Pacific, Boeing rise; Snap, Microsoft fa...  \n",
       "305  Nvidias Earnings Could Surge. Just Listen to M...  \n",
       "306  Alphabet stock rallies after second quarter re...  \n",
       "307                   Our Take on Microsoft's Earnings  \n",
       "308  Here's an Earnings Breakdown of a Key Portfoli...  \n",
       "\n",
       "[309 rows x 4 columns]"
      ]
     },
     "execution_count": 45,
     "metadata": {},
     "output_type": "execute_result"
    }
   ],
   "source": [
    "df = pd.DataFrame(parsed_data, columns=[\"ticker\",\"date\",\"time\",\"title\"])\n",
    "df"
   ]
  },
  {
   "cell_type": "code",
   "execution_count": 41,
   "metadata": {},
   "outputs": [],
   "source": [
    "vader = SentimentIntensityAnalyzer()\n",
    "f = lambda title: vader.polarity_scores(title)[\"compound\"]\n",
    "df[\"compound\"] = df[\"title\"].apply(f)\n"
   ]
  },
  {
   "cell_type": "code",
   "execution_count": 42,
   "metadata": {},
   "outputs": [],
   "source": [
    "df[\"date\"] = pd.to_datetime(df.date).dt.date"
   ]
  },
  {
   "cell_type": "code",
   "execution_count": 43,
   "metadata": {},
   "outputs": [
    {
     "data": {
      "text/plain": [
       "<Figure size 720x576 with 0 Axes>"
      ]
     },
     "metadata": {},
     "output_type": "display_data"
    },
    {
     "data": {
      "image/png": "[encoded data removed]",
      "text/plain": [
       "<Figure size 432x288 with 1 Axes>"
      ]
     },
     "metadata": {
      "needs_background": "light"
     },
     "output_type": "display_data"
    }
   ],
   "source": [
    "plt.figure(figsize=(10,8))\n",
    "\n",
    "mean_df = df.groupby([\"ticker\",\"date\"]).mean()\n",
    "mean_df = mean_df.unstack()\n",
    "mean_df = mean_df.xs(\"compound\", axis=\"columns\").transpose()\n",
    "mean_df.plot(kind=\"bar\")\n",
    "\n",
    "plt.show()"
   ]
  }
 ],
 "metadata": {
  "kernelspec": {
   "display_name": "base",
   "language": "python",
   "name": "python3"
  },
  "language_info": {
   "codemirror_mode": {
    "name": "ipython",
    "version": 3
   },
   "file_extension": ".py",
   "mimetype": "text/x-python",
   "name": "python",
   "nbconvert_exporter": "python",
   "pygments_lexer": "ipython3",
   "version": "3.9.12"
  },
  "orig_nbformat": 4
 },
 "nbformat": 4,
 "nbformat_minor": 2
}
